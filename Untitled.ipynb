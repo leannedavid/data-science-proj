{
 "cells": [
  {
   "cell_type": "code",
   "execution_count": 4,
   "metadata": {
    "collapsed": true
   },
   "outputs": [],
   "source": [
    "import pandas as pd\n"
   ]
  },
  {
   "cell_type": "code",
   "execution_count": 6,
   "metadata": {},
   "outputs": [
    {
     "name": "stdout",
     "output_type": "stream",
     "text": [
      "         id                                        ingredients\n",
      "0     18009  [baking powder, eggs, all-purpose flour, raisi...\n",
      "1     28583  [sugar, egg yolks, corn starch, cream of tarta...\n",
      "2     41580  [sausage links, fennel bulb, fronds, olive oil...\n",
      "3     29752  [meat cuts, file powder, smoked sausage, okra,...\n",
      "4     35687  [ground black pepper, salt, sausage casings, l...\n",
      "5     38527  [baking powder, all-purpose flour, peach slice...\n",
      "6     19666             [grape juice, orange, white zinfandel]\n",
      "7     41217  [ground ginger, white pepper, green onions, or...\n",
      "8     28753  [diced onions, taco seasoning mix, all-purpose...\n",
      "9     22659  [eggs, cherries, dates, dark muscovado sugar, ...\n",
      "10    21749  [pasta, olive oil, crushed red pepper, cherry ...\n",
      "11    44967  [water, butter, ground sumac, ground lamb, gro...\n",
      "12    42969  [curry powder, ground cumin, chicken wings, ch...\n",
      "13    44883  [pasta, marinara sauce, dried basil, chicken f...\n",
      "14    20827  [salt, custard powder, white sugar, eggs, marg...\n",
      "15    23196  [vegetable oil cooking spray, egg whites, apri...\n",
      "16    35387  [vanilla ice cream, banana liqueur, bananas, p...\n",
      "17    33780  [molasses, hot sauce, baked beans, Grey Poupon...\n",
      "18    19001  [chopped green chilies, sour cream, cheddar ch...\n",
      "19    16526  [cold water, chicken drumsticks, chicken thigh...\n",
      "20    42455  [bean threads, suet, fresh shiitake mushrooms,...\n",
      "21    47453  [water, ground turmeric, salt, long-grain rice...\n",
      "22    42478  [kosher salt, bay leaves, brown lentils, parsn...\n",
      "23    11885  [kosher salt, vegetable oil, shrimp, herbs, nu...\n",
      "24    16585  [arborio rice, olive oil, dry white wine, salt...\n",
      "25    29639  [granny smith apples, bay leaves, apple cider,...\n",
      "26    26245  [fish sauce, jalapeno chilies, scallions, lemo...\n",
      "27    38516  [chicken wings, baking soda, rice vinegar, gar...\n",
      "28    47520  [parmigiano reggiano cheese, figs, cracked bla...\n",
      "29    26212  [cheese sauce, macaroni and cheese dinner, shr...\n",
      "...     ...                                                ...\n",
      "9914  49157  [fish sauce, lemongrass, ginger, garlic cloves...\n",
      "9915  40847  [kosher salt, shallots, ground black pepper, f...\n",
      "9916  14084  [celery ribs, lemon slices, fresh parsley, lar...\n",
      "9917   6802  [zucchini, ground beef, water, green pepper, p...\n",
      "9918  22381  [fine salt, canola oil, unsalted butter, bakin...\n",
      "9919  21016         [sugar, ice, sugar cane, gingerroot, lime]\n",
      "9920  29024  [manicotti shells, egg substitute, salt, itali...\n",
      "9921   4478  [mushroom caps, dipping sauces, red bell peppe...\n",
      "9922  36711  [red lentils, crushed garlic, curry powder, cu...\n",
      "9923   8300  [water, cooking spray, onions, dough, dried th...\n",
      "9924  47035  [chicken broth, salt, diced celery, diced onio...\n",
      "9925  15596  [raspberry jam, unsalted butter, caster sugar,...\n",
      "9926  19902  [kosher salt, worcestershire sauce, slab bacon...\n",
      "9927  31242  [evaporated milk, salt, white sugar, flaked co...\n",
      "9928  21117  [curry powder, baby spinach, fenugreek seeds, ...\n",
      "9929  15234  [tomatoes, black pepper, ground nutmeg, heavy ...\n",
      "9930  24993  [minced chicken, olive oil, carrots, sweet chi...\n",
      "9931  31007  [tomatoes, paprika, long-grain rice, chicken, ...\n",
      "9932  31687  [canned black beans, corn kernels, low sodium ...\n",
      "9933  13657  [avocado, salsa, hot pepper sauce, garlic powd...\n",
      "9934  36612  [yellow squash, salt, mayonaise, butter, butte...\n",
      "9935  14008  [chicken wings, peeled fresh ginger, soy sauce...\n",
      "9936  32124  [sugar, salt, large egg yolks, apricot preserv...\n",
      "9937  43570  [eggs, green onions, rice vinegar, shrimp smal...\n",
      "9938  14059  [cauliflower, garlic paste, curry powder, gree...\n",
      "9939  30246  [large egg yolks, fresh lemon juice, sugar, bo...\n",
      "9940  36028  [hot sauce, butter, sweet potatoes, adobo sauc...\n",
      "9941  22339  [black pepper, salt, parmigiano reggiano chees...\n",
      "9942  42525  [cheddar cheese, cayenne, paprika, plum tomato...\n",
      "9943   1443  [cold water, olive oil, lime wedges, garlic cl...\n",
      "\n",
      "[9944 rows x 2 columns]\n"
     ]
    }
   ],
   "source": [
    "\n",
    "df=pd.read_json(\"test.json\")\n",
    "print(df)\n",
    "df.to_csv('results.csv')"
   ]
  },
  {
   "cell_type": "code",
   "execution_count": 10,
   "metadata": {},
   "outputs": [
    {
     "name": "stdout",
     "output_type": "stream",
     "text": [
      "baking powder\n"
     ]
    }
   ],
   "source": [
    "print(df['ingredients'][0][0])"
   ]
  },
  {
   "cell_type": "code",
   "execution_count": null,
   "metadata": {
    "collapsed": true
   },
   "outputs": [],
   "source": []
  }
 ],
 "metadata": {
  "kernelspec": {
   "display_name": "Python 3",
   "language": "python",
   "name": "python3"
  },
  "language_info": {
   "codemirror_mode": {
    "name": "ipython",
    "version": 3
   },
   "file_extension": ".py",
   "mimetype": "text/x-python",
   "name": "python",
   "nbconvert_exporter": "python",
   "pygments_lexer": "ipython3",
   "version": "3.6.3"
  }
 },
 "nbformat": 4,
 "nbformat_minor": 2
}
