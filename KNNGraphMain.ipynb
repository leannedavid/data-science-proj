{
 "cells": [
  {
   "cell_type": "code",
   "execution_count": null,
   "metadata": {
    "collapsed": true
   },
   "outputs": [],
   "source": [
    "import pandas as pd\n",
    "import numpy as np\n",
    "import datetime\n",
    "\n",
    "from sklearn.neighbors import KNeighborsClassifier\n",
    "\n",
    "from sklearn.metrics import accuracy_score"
   ]
  },
  {
   "cell_type": "code",
   "execution_count": null,
   "metadata": {
    "collapsed": true
   },
   "outputs": [],
   "source": [
    "# training set\n",
    "df_train = pd.read_json('train.json')\n",
    "\n",
    "feature_cols = ['ingredients']\n",
    "\n",
    "X = df_train['ingredients']\n",
    "Y = df_train['cuisine']"
   ]
  },
  {
   "cell_type": "code",
   "execution_count": null,
   "metadata": {
    "collapsed": true
   },
   "outputs": [],
   "source": [
    "print(\"Start: \" + str(datetime.datetime.now()))\n",
    "#df2['ingredients'] = pd.get_dummies(df2['ingredients'].apply(pd.Series).stack()).sum(level = 0)\n",
    "dummies_df = pd.get_dummies(\n",
    "  df_train.join(pd.Series(df_train['ingredients'].apply(pd.Series).stack().reset_index(1, drop=True),\n",
    "                    name='ingredients1')).drop('ingredients', axis=1).rename(columns={'ingredients1': 'ingredients'}),\n",
    "  columns=['ingredients'])\n",
    "\n",
    "dummies_df"
   ]
  },
  {
   "cell_type": "code",
   "execution_count": null,
   "metadata": {
    "collapsed": true
   },
   "outputs": [],
   "source": [
    "#print(dummies_df.iloc[:,0])\n",
    "x = np.array(dummies_df.iloc[:,1:2000])\n",
    "y = dummies_df.iloc[:,0]"
   ]
  },
  {
   "cell_type": "code",
   "execution_count": null,
   "metadata": {
    "collapsed": true
   },
   "outputs": [],
   "source": [
    "x_train, x_test, y_train, y_test = train_test_split(x, y, test_size=0.3, random_state=42)"
   ]
  },
  {
   "cell_type": "code",
   "execution_count": null,
   "metadata": {
    "collapsed": true
   },
   "outputs": [],
   "source": [
    "knn = KNeighborsClassifier(n_neighbors=5)\n",
    "knn.fit(x_train,y_train)\n",
    "knntwo = KNeighborsClassifier(n_neighbors=10)\n",
    "knntwo.fit(x_train,y_train)\n",
    "knnthree = KNeighborsClassifier(n_neighbors=15)\n",
    "knnthree.fit(x_train,y_train)\n",
    "knnfour = KNeighborsClassifier(n_neighbors=20)\n",
    "knnfour.fit(x_train,y_train)\n",
    "knnfive = KNeighborsClassifier(n_neighbors=25)\n",
    "knnfive.fit(x_train,y_train)"
   ]
  },
  {
   "cell_type": "code",
   "execution_count": null,
   "metadata": {
    "collapsed": true
   },
   "outputs": [],
   "source": [
    "pred_knn = knn.predict(x_test)\n",
    "print(pred_knn)\n",
    "pred_knntwo = knn.predict(x_test)\n",
    "pred_knnthree = knn.predict(x_test)\n",
    "pred_knnfour = knn.predict(x_test)\n",
    "pred_knnfive = knn.predict(x_test)"
   ]
  },
  {
   "cell_type": "code",
   "execution_count": null,
   "metadata": {
    "collapsed": true
   },
   "outputs": [],
   "source": [
    "print('Accuracy score using KNN = 5: ' + str(accuracy_score(y_test, pred_knn)))\n",
    "print('Accuracy score using KNN = 10: ' + str(accuracy_score(y_test, pred_knntwo)))\n",
    "print('Accuracy score using KNN = 15: ' + str(accuracy_score(y_test, pred_knnthree)))\n",
    "print('Accuracy score using KNN = 20: ' + str(accuracy_score(y_test, pred_knnfour)))\n",
    "print('Accuracy score using KNN = 25: ' + str(accuracy_score(y_test, pred_knnfive)))"
   ]
  }
 ],
 "metadata": {
  "kernelspec": {
   "display_name": "Python 3",
   "language": "python",
   "name": "python3"
  },
  "language_info": {
   "codemirror_mode": {
    "name": "ipython",
    "version": 3
   },
   "file_extension": ".py",
   "mimetype": "text/x-python",
   "name": "python",
   "nbconvert_exporter": "python",
   "pygments_lexer": "ipython3",
   "version": "3.6.2"
  }
 },
 "nbformat": 4,
 "nbformat_minor": 2
}
